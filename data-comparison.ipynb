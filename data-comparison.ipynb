{
 "cells": [
  {
   "cell_type": "code",
   "execution_count": null,
   "id": "8a15d13b-09cd-493d-b47e-d50d576449d4",
   "metadata": {},
   "outputs": [],
   "source": [
    "import pandas as pd \n",
    "import geopandas as gpd"
   ]
  },
  {
   "cell_type": "markdown",
   "id": "cb75df54-71e0-40a3-b19b-099b8ca24d11",
   "metadata": {},
   "source": [
    "# NIFC Datasets"
   ]
  },
  {
   "cell_type": "markdown",
   "id": "46819f57-7bdd-4628-bf2d-2c23d67dbbd1",
   "metadata": {},
   "source": [
    "## Annual summaries "
   ]
  },
  {
   "cell_type": "markdown",
   "id": "cbb7718b-db39-4d71-b000-db459e4ccca6",
   "metadata": {},
   "source": [
    "INCLUDES ALASKA (and probably Hawaii), not just CONUS\n",
    "\n",
    "2018: 58,083 wildfires for 8,767,492 acres, of which 1167 were large\n",
    "\n",
    "2019: 50,477 wildfires for 4,664,364 acres, of which 806 were large\n",
    "\n",
    "2020: 58,950 fires reported, 10,122,336 acres, 999 large fires \n",
    "\n",
    "2021: 58,985 wildfires burned 7,125,643 acres nationally. Of these, 943 were large fires\n",
    "\n",
    "2022: 68,988 wildfires that burned 7,577,183 acres\". 1289 large "
   ]
  },
  {
   "cell_type": "markdown",
   "id": "fcbbd512-1a4d-4cd7-b529-42540694502e",
   "metadata": {},
   "source": [
    "## Historic Perimeters Combined 2000-2018 GeoMAC"
   ]
  },
  {
   "cell_type": "markdown",
   "id": "860654d6-d943-4538-bcca-ec65abf7a556",
   "metadata": {
    "jp-MarkdownHeadingCollapsed": true
   },
   "source": [
    "Only through 2019 (yes, although it says it ends in 2018). However, Katrina recommends over InterAgencyFirePerimeter. Skipping for now due to date range. "
   ]
  },
  {
   "cell_type": "markdown",
   "id": "941c58cd-2bf9-486c-aba8-0bfd8c81ecb1",
   "metadata": {},
   "source": [
    "## WFIGS Interagency Fire Perimeters "
   ]
  },
  {
   "cell_type": "markdown",
   "id": "406ae7bd-aefe-4df7-88bd-674676a89080",
   "metadata": {},
   "source": [
    "Does not seem to contain more than one perimeter per fire, per visual inspection on NIFC ArcGIS site. \n",
    "\n",
    "25,375 records. \n",
    "\n",
    "Newer/authoritative source going forward? \n",
    "\n",
    "Why such a difference between 2021 NIFC (4743) and 2021 WFIGS (2123) \n",
    "Contains 2022-2024:\n",
    "```\n",
    "poly_CreateDate\n",
    "2023.0    5367\n",
    "2024.0    5322\n",
    "2022.0    2279\n",
    "2021.0    2123\n",
    "2020.0      24\n",
    "Name: count, dtype: int64\n",
    "```"
   ]
  },
  {
   "cell_type": "code",
   "execution_count": null,
   "id": "745d3158-11f7-4c31-b575-7bf7eb3552b0",
   "metadata": {},
   "outputs": [],
   "source": [
    "wfigs = \"~/feds-benchmarking/data/WFIGS_Interagency_Perimeters_1406150765430228857.geojson\"\n",
    "\n",
    "wfigs = gpd.read_file(wfigs)"
   ]
  },
  {
   "cell_type": "code",
   "execution_count": null,
   "id": "88287449-3448-428d-84ce-a4e0515b1232",
   "metadata": {},
   "outputs": [],
   "source": [
    "wfigs.poly_CreateDate = pd.to_datetime(wfigs.poly_CreateDate)\n",
    "wfigs.poly_CreateDate.dt.year.value_counts()"
   ]
  },
  {
   "cell_type": "markdown",
   "id": "d2306296-7048-4d76-b3f6-0ef54a4620d3",
   "metadata": {},
   "source": [
    "## InterAgencyFirePerimeterHistory_All_Years_View"
   ]
  },
  {
   "cell_type": "markdown",
   "id": "4828995d-58c3-42e4-bf84-bb5f63ac7769",
   "metadata": {},
   "source": [
    "There is some overlap, according to the online viewer, but not a ton. \n",
    "\n",
    "Missing 2023 (this is probably in WFIGS, but InterAgency has 4743 in 2021 and WFIGS has 2123 so those don't seem comparable). \n",
    "\n",
    "```\n",
    "FIRE_YEAR\n",
    "2021    4743\n",
    "2020    4237\n",
    "2018    2888\n",
    "2019    2551\n",
    "Name: count, dtype: int64\n",
    "```"
   ]
  },
  {
   "cell_type": "code",
   "execution_count": null,
   "id": "dfe9c4f2-e551-4eea-811d-54a7388be8b1",
   "metadata": {},
   "outputs": [],
   "source": [
    "# note that the downloaded file is def wrong, it is cutoff at 2000 recoreds when there should be 14,419 just for 2018-22\n",
    "# inter = \"~/feds-benchmarking/data/InterAgencyFirePerimeterHistory_All_Years_View.geojson\" \n",
    "\n",
    "inter = \"~/feds-benchmarking/data/InterAgencyFirePerimeterHistory_All_Years_View.geojson\"\n",
    "\n",
    "inter = gpd.read_file(inter, engine='pyogrio')"
   ]
  },
  {
   "cell_type": "code",
   "execution_count": null,
   "id": "70e51b6e-83cc-4fb3-b3a7-d2595a954d13",
   "metadata": {},
   "outputs": [],
   "source": [
    "len(inter)"
   ]
  },
  {
   "cell_type": "code",
   "execution_count": null,
   "id": "044aac0b-e2ae-41f0-bf20-a41e5e1088af",
   "metadata": {},
   "outputs": [],
   "source": [
    "inter.FIRE_YEAR.value_counts()"
   ]
  },
  {
   "cell_type": "markdown",
   "id": "cb0c60aa-a3da-44ad-90c7-2615504a0d5c",
   "metadata": {},
   "source": [
    "# MTBS Dataset"
   ]
  },
  {
   "cell_type": "markdown",
   "id": "5f5180a2-53f8-4c7b-8536-a26ac166c9e5",
   "metadata": {},
   "source": [
    "31248 records, 1984-2022. \n",
    "\n",
    "Generally seems to have one fire perimeter per fire (final perimeter). Seems to overestimate burned area reported to NIFC burned area. (not saying that NIFC is correct, just that MTBS is higher). \n",
    "\n",
    "Average of 922.5 fires/year between 2018 and 2022. \n",
    "During this time period, MTBS had on average 1.54% of the total number of reported fires from NIFC and accounted for 90.78% of burned area reported in NIFC (THIS IS WRONG, NIFC contains Alaska while MTBS doesn't. MTBS is more over NIFC than shown.) \n",
    "\n",
    "#### 2022\n",
    "For 2022, for example, sum of burned area in the dataset = 2,293,483 acres. \n",
    "[NIFC annual report for 2022](https://www.nifc.gov/sites/default/files/NICC/2-Predictive%20Services/Intelligence/Annual%20Reports/2022/annual_report.2.pdf) says that \"In 2022, there were 68,988 wildfires that burned 7,577,183 acres\". 1289 large fires in NIFC \n",
    "\n",
    "MTBS has 830 large fires (>1000 acres in the West, >500 in the East) that burned 2,293,483 acres. \n",
    "That is 1.2% of reported fires in the US and accounts for 30.3% of burned area. \n",
    "\n",
    "**AH, you know what it is: Alaska is included in the NIFC summary stats but not the MTBS data.** 3 million acres burned in AK in 2022 \n",
    "\n",
    "#### 2021\n",
    "Same analysis for 2021, because I have 2021 FEDS done but not 2022 yet. \n",
    "\n",
    "[NIFC 2021 report](https://www.nifc.gov/sites/default/files/NICC/2-Predictive%20Services/Intelligence/Annual%20Reports/2021/annual_report_0.pdf) says that 58,985 wildfires burned 7,125,643 acres nationally. Of these, 943 were large fires \n",
    "\n",
    "MTBS has 1022 large fires burning 8,256,844 acres? 1.7% of fires accounting for 115.9% (?) of burned area. \n",
    "\n",
    "#### 2020 \n",
    "NIFC: 58,950 fires reported, 10,122,336 acres burned (this was a very bad year, for context).\n",
    "MTBS: 815 fires, 10,345,285 acres burned \n",
    "1.3% of fires, 97.8% of burned area. \n",
    "\n",
    "Note: NIFC defines large fires as \"100 acres in timber fuel types, 300 acres in grass and brush fuel types, or are otherwise\n",
    "managed by a Type 1 or 2 Incident Management Team or NIMO\" and recorded 999 in 2020. \n",
    "\n",
    "#### 2019 \n",
    "NIFC: 50,477 wildfires for 4,664,364 acres, of which 806 were large fires\n",
    "MTBS: 814 large fires for 5,017,810 acres\n",
    "1.6% of fires, 107.6% of reported burned area\n",
    "\n",
    "#### 2018 \n",
    "NIFC: 58,083 wildfires for 8,767,492 acres, of which 1167 were large fires. \n",
    "MTBS: 1131 large fires, 8966731 acres\n",
    "1.9% of large fires, 102.3% of burned area"
   ]
  },
  {
   "cell_type": "code",
   "execution_count": null,
   "id": "17bffbb9-23e9-453a-bc9b-83f26efb40c8",
   "metadata": {},
   "outputs": [],
   "source": [
    "8966731 / 8767492"
   ]
  },
  {
   "cell_type": "markdown",
   "id": "ff324998-ce9c-4330-8610-ab8720b8ef19",
   "metadata": {},
   "source": [
    "## Stats"
   ]
  },
  {
   "cell_type": "code",
   "execution_count": null,
   "id": "b638fda1-d482-4462-a86f-943d2dbd82a4",
   "metadata": {},
   "outputs": [],
   "source": [
    "mtbs = \"~/feds-benchmarking/data/mtbs_perimeter_data/mtbs_perims_DD.shp\" \n",
    "\n",
    "mtbs = gpd.read_file(mtbs)"
   ]
  },
  {
   "cell_type": "code",
   "execution_count": null,
   "id": "5f7a8573-3d8f-4b97-8285-8e014ce09d9c",
   "metadata": {},
   "outputs": [],
   "source": [
    "mtbs.columns"
   ]
  },
  {
   "cell_type": "code",
   "execution_count": null,
   "id": "2dad7e5b-1710-402a-91bd-baf2e57bebdc",
   "metadata": {},
   "outputs": [],
   "source": [
    "mtbs['Ig_Date']"
   ]
  },
  {
   "cell_type": "code",
   "execution_count": null,
   "id": "9f255f3e-5928-4c30-ad92-a16db9b79f2d",
   "metadata": {},
   "outputs": [],
   "source": [
    "years = {}\n",
    "for date in mtbs['Ig_Date']:\n",
    "    date = pd.to_datetime(date)\n",
    "    if date.year in years:\n",
    "        years[date.year] += 1\n",
    "    else:\n",
    "        years[date.year] = 1\n",
    "\n",
    "years"
   ]
  },
  {
   "cell_type": "code",
   "execution_count": null,
   "id": "88652337-55b6-447b-a52f-12c3b1407e36",
   "metadata": {},
   "outputs": [],
   "source": [
    "ssum = 0\n",
    "\n",
    "for year in [2018, 2019, 2020, 2021, 2022]:\n",
    "    ssum += years[year]\n",
    "\n",
    "ssum / 5"
   ]
  },
  {
   "cell_type": "code",
   "execution_count": null,
   "id": "5968ac7c-99cc-4047-9b78-db23c5202e07",
   "metadata": {},
   "outputs": [],
   "source": [
    "mtbs['Ig_Date'] = pd.to_datetime(mtbs['Ig_Date'])"
   ]
  },
  {
   "cell_type": "code",
   "execution_count": null,
   "id": "80deb00f-6c42-4ff3-af6f-e7d73a3de59a",
   "metadata": {},
   "outputs": [],
   "source": [
    "mtbs = mtbs[mtbs['Ig_Date'].dt.year >= 2018]"
   ]
  },
  {
   "cell_type": "code",
   "execution_count": null,
   "id": "ca791881-9d2a-45ae-8ca6-383aa9403711",
   "metadata": {},
   "outputs": [],
   "source": [
    "mtbs.columns"
   ]
  },
  {
   "cell_type": "code",
   "execution_count": null,
   "id": "4fdd3427-86f4-41e3-826d-08abf20eb9e4",
   "metadata": {},
   "outputs": [],
   "source": [
    "area = mtbs[mtbs['Ig_Date'].dt.year == 2018]['BurnBndAc'].sum()\n",
    "area"
   ]
  },
  {
   "cell_type": "code",
   "execution_count": null,
   "id": "e414dd07-3f37-46fa-9640-74c4d4151ee3",
   "metadata": {},
   "outputs": [],
   "source": [
    "mtbs[mtbs['Incid_Name'].str.contains(\"DEAKLE\")] # confirming that BurnBndAc == acres by checking against web viewer"
   ]
  }
 ],
 "metadata": {
  "kernelspec": {
   "display_name": "Python [conda env:pangeo] *",
   "language": "python",
   "name": "conda-env-pangeo-py"
  },
  "language_info": {
   "codemirror_mode": {
    "name": "ipython",
    "version": 3
   },
   "file_extension": ".py",
   "mimetype": "text/x-python",
   "name": "python",
   "nbconvert_exporter": "python",
   "pygments_lexer": "ipython3",
   "version": "3.10.13"
  }
 },
 "nbformat": 4,
 "nbformat_minor": 5
}
